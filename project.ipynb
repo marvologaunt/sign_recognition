{
  "metadata": {
    "kernelspec": {
      "name": "python",
      "display_name": "Python (Pyodide)",
      "language": "python"
    },
    "language_info": {
      "codemirror_mode": {
        "name": "python",
        "version": 3
      },
      "file_extension": ".py",
      "mimetype": "text/x-python",
      "name": "python",
      "nbconvert_exporter": "python",
      "pygments_lexer": "ipython3",
      "version": "3.8"
    }
  },
  "nbformat_minor": 4,
  "nbformat": 4,
  "cells": [
    {
      "cell_type": "code",
      "source": "import cv2\nimport numpy as np\nfrom keras.models import load_model\nfrom skimage.transform import resize, pyramid_reduce\nimport PIL\nfrom PIL import Image\n\nfrom opencv import cam_capture\n\nmodel = load_model('CNNmodel.h5')\n\n\ndef prediction(pred):\n    return(chr(pred+ 65))\n\n\ndef keras_predict(model, image):\n    data = np.asarray( image, dtype=\"int32\" )\n    \n    pred_probab = model.predict(data)[0]\n    pred_class = list(pred_probab).index(max(pred_probab))\n    return max(pred_probab), pred_class\n\ndef keras_process_image(img):\n    \n    image_x = 28\n    image_y = 28\n    img = cv2.resize(img, (1,28,28), interpolation = cv2.INTER_AREA)\n  \n    return img\n \n\ndef crop_image(image, x, y, width, height):\n    return image[y:y + height, x:x + width]\n\ndef main():\n    l = []\n    \n    while True:\n        \n        cam_capture = cv2.VideoCapture(0)\n        _, image_frame = cam_capture.read()  \n    \n        im2 = crop_image(image_frame, 300,300,300,300)\n        image_grayscale = cv2.cvtColor(im2, cv2.COLOR_BGR2GRAY)\n    \n        image_grayscale_blurred = cv2.GaussianBlur(image_grayscale, (15,15), 0)\n        im3 = cv2.resize(image_grayscale_blurred, (28,28), interpolation = cv2.INTER_AREA)\n\n\n    \n        im4 = np.resize(im3, (28, 28, 1))\n        im5 = np.expand_dims(im4, axis=0)\n    \n\n        pred_probab, pred_class = keras_predict(model, im5)\n    \n        curr = prediction(pred_class)\n        \n        cv2.putText(image_frame, curr, (700, 300), cv2.FONT_HERSHEY_COMPLEX, 4.0, (255, 255, 255), lineType=cv2.LINE_AA)\n\n\n        \n        cv2.rectangle(image_frame, (300, 300), (600, 600), (255, 255, 00), 3)\n        cv2.imshow(\"frame\",image_frame)\n        \n        \n    #cv2.imshow(\"Image4\",resized_img)\n        cv2.imshow(\"Image3\",image_grayscale_blurred)\n\n        if cv2.waitKey(25) & 0xFF == ord('q'):\n                cv2.destroyAllWindows()\n                break\n\n\nif __name__ == '__main__':\n    main()\n\ncam_capture.release()\ncv2.destroyAllWindows()\n",
      "metadata": {
        "trusted": true
      },
      "outputs": [],
      "execution_count": null
    },
    {
      "cell_type": "code",
      "source": "from keras.models import Sequential\nfrom keras.layers import Convolution2D\nfrom keras.layers import MaxPooling2D\nfrom keras.layers import Flatten\nfrom keras.layers import Dense\n\nclassifier = Sequential()\n\n\nclassifier.add(Convolution2D(32, 3, 3, input_shape = (64, 64, 3), activation = 'relu'))\n\n\nclassifier.add(MaxPooling2D(pool_size = (2, 2)))\n\n\nclassifier.add(Convolution2D(32, 3, 3, activation = 'relu'))\nclassifier.add(MaxPooling2D(pool_size = (2, 2)))\n\nclassifier.add(Flatten())\n\nclassifier.add(Dense(output_dim = 128, activation = 'relu'))\nclassifier.add(Dense(output_dim = 1, activation = 'sigmoid'))\n\nclassifier.compile(optimizer = 'adam', loss = 'binary_crossentropy', metrics = ['accuracy'])\n\n\nfrom keras.preprocessing.image import ImageDataGenerator\n\ntrain_datagen = ImageDataGenerator(rescale = 1./255,\n                                   shear_range = 0.2,\n                                   zoom_range = 0.2,\n                                   horizontal_flip = True)\n\ntest_datagen = ImageDataGenerator(rescale = 1./255)\n\ntraining_set = train_datagen.flow_from_directory('test_dataset/training_set',\n                                                 target_size = (64, 64),\n                                                 batch_size = 32,\n                                                 class_mode = 'binary')\n\ntest_set = test_datagen.flow_from_directory('test_dataset/test_set',\n                                            target_size = (64, 64),\n                                            batch_size = 32,\n                                            class_mode = 'binary')\n\nclassifier.fit_generator(training_set,\n                         samples_per_epoch = 8000,\n                         nb_epoch = 25,\n                         validation_data = test_set,\n                         nb_val_samples = 2000)\n",
      "metadata": {
        "trusted": true
      },
      "outputs": [],
      "execution_count": null
    },
    {
      "cell_type": "code",
      "source": "import cv2\nimport numpy as np\nimport pickle\n\ndef build_squares(img):\n\tx, y, w, h = 420, 140, 10, 10\n\td = 10\n\timgCrop = None\n\tcrop = None\n\tfor i in range(10):\n\t\tfor j in range(5):\n\t\t\tif np.any(imgCrop == None):\n\t\t\t\timgCrop = img[y:y+h, x:x+w]\n\t\t\telse:\n\t\t\t\timgCrop = np.hstack((imgCrop, img[y:y+h, x:x+w]))\n\t\t\n\t\t\tcv2.rectangle(img, (x,y), (x+w, y+h), (0,255,0), 1)\n\t\t\tx+=w+d\n\t\tif np.any(crop == None):\n\t\t\tcrop = imgCrop\n\t\telse:\n\t\t\tcrop = np.vstack((crop, imgCrop)) \n\t\timgCrop = None\n\t\tx = 420\n\t\ty+=h+d\n\treturn crop\n\ndef get_hand_hist():\n\tcam = cv2.VideoCapture(1)\n\tif cam.read()[0]==False:\n\t\tcam = cv2.VideoCapture(0)\n\tx, y, w, h = 300, 100, 300, 300\n\tflagPressedC, flagPressedS = False, False\n\timgCrop = None\n\twhile True:\n\t\timg = cam.read()[1]\n\t\timg = cv2.flip(img, 1)\n\t\thsv = cv2.cvtColor(img, cv2.COLOR_BGR2HSV)\n\t\t\n\t\tkeypress = cv2.waitKey(1)\n\t\tif keypress == ord('c'):\t\t\n\t\t\thsvCrop = cv2.cvtColor(imgCrop, cv2.COLOR_BGR2HSV)\n\t\t\tflagPressedC = True\n\t\t\thist = cv2.calcHist([hsvCrop], [0, 1], None, [180, 256], [0, 180, 0, 256])\n\t\t\tcv2.normalize(hist, hist, 0, 255, cv2.NORM_MINMAX)\n\t\telif keypress == ord('s'):\n\t\t\tflagPressedS = True\t\n\t\t\tbreak\n\t\tif flagPressedC:\t\n\t\t\tdst = cv2.calcBackProject([hsv], [0, 1], hist, [0, 180, 0, 256], 1)\n\t\t\tdst1 = dst.copy()\n\t\t\tdisc = cv2.getStructuringElement(cv2.MORPH_ELLIPSE,(10,10))\n\t\t\tcv2.filter2D(dst,-1,disc,dst)\n\t\t\tblur = cv2.GaussianBlur(dst, (11,11), 0)\n\t\t\tblur = cv2.medianBlur(blur, 15)\n\t\t\tret,thresh = cv2.threshold(blur,0,255,cv2.THRESH_BINARY+cv2.THRESH_OTSU)\n\t\t\tthresh = cv2.merge((thresh,thresh,thresh))\n\t\t\t\n\t\t\tcv2.imshow(\"Thresh\", thresh)\n\t\tif not flagPressedS:\n\t\t\timgCrop = build_squares(img)\n\t\t\n\t\tcv2.imshow(\"Set hand histogram\", img)\n\tcam.release()\n\tcv2.destroyAllWindows()\n\twith open(\"hist\", \"wb\") as f:\n\t\tpickle.dump(hist, f)\n\n\nget_hand_hist()\n",
      "metadata": {
        "trusted": true
      },
      "outputs": [],
      "execution_count": null
    },
    {
      "cell_type": "code",
      "source": "import cv2  \n\nimport numpy as np \n  \n \ncap = cv2.imread('a.png',0)\nretval, threshold = cv2.threshold(cap, 100, 255, cv2.THRESH_BINARY)\ncv2.imshow('threshold',threshold)  \n\nedges = cv2.Canny(threshold,100,200) \n \ncv2.imshow('Edges',edges)\n\nconverted = cv2.cvtColor(cap, cv2.COLOR_BGR2HSV)\nskinMask = cv2.inRange(converted, lower, upper)\n\nkernel = cv2.getStructuringElement(cv2.MORPH_ELLIPSE, (11, 11))\n\nimg_dilation = cv2.dilate(cap, kernel, iterations=1)\n\ncv2.imshow('Input', img)\ncv2.imshow('Erosion', img_erosion)\ncv2.imshow('Dilation', img_dilation)\n\ncv2.waitKey(0)\ncv2.destroyAllWindows()  \n",
      "metadata": {
        "trusted": true
      },
      "outputs": [],
      "execution_count": null
    },
    {
      "cell_type": "code",
      "source": "import cv2\nimport numpy as np\nfrom keras.models import load_model\nfrom skimage.transform import resize, pyramid_reduce\n\nmodel = load_model('model.h5')\n\ndef get_square(image, square_size):\n    \n    height, width = image.shape    \n    if(height > width):\n      differ = height\n    else:\n      differ = width\n    differ += 4\n\n\n    mask = np.zeros((differ, differ), dtype = \"uint8\")\n\n    x_pos = int((differ - width) / 2)\n    y_pos = int((differ - height) / 2)\n\n   \n    mask[y_pos: y_pos + height, x_pos: x_pos + width] = image[0: height, 0: width]\n\n \n    if differ / square_size > 1:\n      mask = pyramid_reduce(mask, differ / square_size)\n    else:\n      mask = cv2.resize(mask, (square_size, square_size), interpolation = cv2.INTER_AREA)\n    return mask\n\n\ndef keras_predict(model, image):\n    data = np.asarray( image, dtype=\"int32\" )\n    \n    pred_probab = model.predict(data)[0]\n    pred_class = list(pred_probab).index(max(pred_probab))\n    return max(pred_probab), pred_class\n\ndef keras_process_image(img):\n    \n    image_x = 28\n    image_y = 28\n    \n    img = get_square(img, 28)\n    img = np.reshape(img, (image_x, image_y))\n    \n    \n    return img\n \n\ndef crop_image(image, x, y, width, height):\n    return image[y:y + height, x:x + width]\n\nwhile True:  \n    cam_capture = cv2.VideoCapture(0)\n    _, image_frame = cam_capture.read()  \n    \n    im2 = crop_image(image_frame, 300,300,300,300)\n    image_grayscale = cv2.cvtColor(im2, cv2.COLOR_BGR2GRAY)\n    image_grayscale_blurred = cv2.GaussianBlur(image_grayscale, (15,15), 0)\n\n\n   \n    resized_img = cv2.resize(image_grayscale_blurred,(28,28))\n    \n    ar = resized_img.reshape(1,784)\n\n    pred_probab, pred_class = keras_predict(model, ar )\n    print(pred_class, pred_probab)\n    \n\n    cv2.imshow(\"Image2\",im2)\n    cv2.imshow(\"Image4\",resized_img)\n    cv2.imshow(\"Image3\",image_grayscale_blurred)\n\n    if cv2.waitKey(25) & 0xFF == ord('q'):\n            cv2.destroyAllWindows()\n            break\n    \n\ncam_capture.release()\ncv2.destroyAllWindows()\n",
      "metadata": {
        "trusted": true
      },
      "outputs": [],
      "execution_count": null
    },
    {
      "cell_type": "code",
      "source": "import keras\nimport numpy as np\nimport pandas as pd\nimport cv2 \nfrom keras.models import Sequential \nfrom keras.layers import Conv2D,MaxPooling2D, Dense,Flatten\nfrom keras.datasets import mnist \nimport matplotlib.pyplot as plt\nfrom keras.utils import np_utils\nfrom keras.optimizers import SGD",
      "metadata": {
        "trusted": true
      },
      "outputs": [],
      "execution_count": null
    },
    {
      "cell_type": "code",
      "source": "!pip install PyDrive",
      "metadata": {
        "trusted": true
      },
      "outputs": [],
      "execution_count": null
    },
    {
      "cell_type": "code",
      "source": "import os\nfrom pydrive.auth import GoogleAuth\nfrom pydrive.drive import GoogleDrive\nfrom google.colab import auth\nfrom oauth2client.client import GoogleCredentials",
      "metadata": {
        "trusted": true
      },
      "outputs": [],
      "execution_count": null
    },
    {
      "cell_type": "code",
      "source": "auth.authenticate_user()\ngauth = GoogleAuth()\ngauth.credentials = GoogleCredentials.get_application_default()\ndrive = GoogleDrive(gauth)",
      "metadata": {
        "trusted": true
      },
      "outputs": [],
      "execution_count": null
    },
    {
      "cell_type": "code",
      "source": "download = drive.CreateFile({'id': '1wG0gS-bqjV6yz1YveuxkvHT5_2DOuT05'})\ndownload.GetContentFile('train.csv')\ntrain = pd.read_csv('train.csv')",
      "metadata": {
        "trusted": true
      },
      "outputs": [],
      "execution_count": null
    },
    {
      "cell_type": "code",
      "source": "download = drive.CreateFile({'id': '1q_Zwlu3RncjKq1YpiVtkiMPxIIueGRYB'})\ndownload.GetContentFile('test.csv')\ntest = pd.read_csv('test.csv')",
      "metadata": {
        "trusted": true
      },
      "outputs": [],
      "execution_count": null
    },
    {
      "cell_type": "code",
      "source": "display(train.info())\n\ndisplay(test.info())\n\ndisplay(train.head(n = 2))\ndisplay(test.head(n = 2))",
      "metadata": {
        "trusted": true
      },
      "outputs": [],
      "execution_count": null
    },
    {
      "cell_type": "code",
      "source": "train_Y = train['label']\ntest_Y = test['label']\ntrain_X = train.drop(['label'],axis = 1)\ntest_X = test.drop(['label'],axis = 1)",
      "metadata": {
        "trusted": true
      },
      "outputs": [],
      "execution_count": null
    },
    {
      "cell_type": "code",
      "source": "train_X = train_X.astype('float32') / 255\ntest_X = test_X.astype('float32')/255",
      "metadata": {
        "trusted": true
      },
      "outputs": [],
      "execution_count": null
    },
    {
      "cell_type": "code",
      "source": "display(train_Y)",
      "metadata": {
        "trusted": true
      },
      "outputs": [],
      "execution_count": null
    },
    {
      "cell_type": "code",
      "source": "train_X = train_X.values.reshape(27455,784)\ntest_X = test_X.values.reshape(7172,784)\ntrain_Y = keras.utils.to_categorical(train_Y,26)\ntest_Y = keras.utils.to_categorical(test_Y,26)",
      "metadata": {
        "trusted": true
      },
      "outputs": [],
      "execution_count": null
    },
    {
      "cell_type": "code",
      "source": "model = Sequential()\nmodel.add(Dense(units=128,activation=\"relu\",input_shape=(784,)))\nmodel.add(Dense(units=128,activation=\"relu\"))\nmodel.add(Dense(units=128,activation=\"relu\"))\nmodel.add(Dense(units=26,activation=\"softmax\"))",
      "metadata": {
        "trusted": true
      },
      "outputs": [],
      "execution_count": null
    },
    {
      "cell_type": "code",
      "source": "model.compile(optimizer=SGD(0.001),loss=\"categorical_crossentropy\",metrics=[\"accuracy\"])\nmodel.fit(train_X,train_Y,batch_size=32,epochs=100,verbose=1)",
      "metadata": {
        "trusted": true
      },
      "outputs": [],
      "execution_count": null
    },
    {
      "cell_type": "code",
      "source": "accuracy = model.evaluate(x=test_X,y=test_Y,batch_size=32)\nprint(\"Accuracy: \",accuracy[1])",
      "metadata": {
        "trusted": true
      },
      "outputs": [],
      "execution_count": null
    },
    {
      "cell_type": "code",
      "source": "img = test_X[1]\ntest_img = img.reshape((1,784))\nimg_class = model.predict_classes(test_img)\nprediction = img_class[0]\nclassname = img_class[0]\nprint(\"Class: \",classname)\n",
      "metadata": {
        "trusted": true
      },
      "outputs": [],
      "execution_count": null
    },
    {
      "cell_type": "code",
      "source": "img = img.reshape((28,28))\nplt.imshow(img)\nplt.title(classname)\nplt.show()",
      "metadata": {
        "trusted": true
      },
      "outputs": [],
      "execution_count": null
    },
    {
      "cell_type": "code",
      "source": "model.save_weights('model_weights.h5')\nweights_file = drive.CreateFile({'title' : 'model_weights.h5'})\nweights_file.SetContentFile('model_weights.h5')\nweights_file.Upload()\ndrive.CreateFile({'id': weights_file.get('id')})",
      "metadata": {
        "trusted": true
      },
      "outputs": [],
      "execution_count": null
    },
    {
      "cell_type": "code",
      "source": "model.save('model.h5')\nweights_file = drive.CreateFile({'title' : 'model.h5'})\nweights_file.SetContentFile('model.h5')\nweights_file.Upload()\ndrive.CreateFile({'id': weights_file.get('id')})",
      "metadata": {
        "trusted": true
      },
      "outputs": [],
      "execution_count": null
    },
    {
      "cell_type": "code",
      "source": "!pip install h5py pyyaml ",
      "metadata": {
        "trusted": true
      },
      "outputs": [],
      "execution_count": null
    },
    {
      "cell_type": "code",
      "source": "",
      "metadata": {
        "trusted": true
      },
      "outputs": [],
      "execution_count": null
    }
  ]
}